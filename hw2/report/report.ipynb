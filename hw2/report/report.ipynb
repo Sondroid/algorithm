{
 "cells": [
  {
   "cell_type": "markdown",
   "metadata": {},
   "source": [
    "# Implementation of Order-Statistic Tree\n",
    "## 1. Execution\n",
    "The program can be executed by following command. The program has been developed and runned with python 3.8.6rc1. The program consists of main.py, OSTree.py, node.py, checker.py."
   ]
  },
  {
   "cell_type": "code",
   "execution_count": null,
   "metadata": {},
   "outputs": [],
   "source": [
    "!python main.py -i input.txt"
   ]
  },
  {
   "cell_type": "markdown",
   "metadata": {},
   "source": [
    "## 2. Checker Program\n",
    "The checker program has been implemented with integer array of lenth 10000. For operation \"insert\" and \"delete\", the checker directly access to the corresponding index of element. Storing 1 in array some index of array represents that the index number is currently in the os-tree. Conversely, array[num] is zero when num is not in the os-tree. Thus, when \"insert num\" operation occured, checker store 1 in arr[num] and return the item to be stored if and only if array[num] is 0. \n",
    "\n",
    "Delete operation works conversely. If the number to be deleted is not in the tree (that is, arr[number] is zero), the opreation returns 0 and fails to delete. When the number to be deleted is in the tree, the delete opreation changes it to zero and returns the index value.\n",
    "\n",
    "The checker inspects \"search i\" operation by counting the number of 1 in array by increasing order. If sum(arr[1:num]) == i, then num is i-th smallest number in the os-tree. If the summation does not reach i, i is more than the number of elements in the tree, hence return 0.\n",
    "\n",
    "Rank operation is evaluated by sum(arr[1:num]) when arr[num] is 1. if arr[num] is 0, the number is not in the tree and cannot evaluate the rank, hence returns 0.\n",
    "\n",
    "Since checker can access directly to each index of array and the indexes are fixed, insert and delete take constant time regardless of the number of elements in tree. The fixed range of integer implies that the summations in search and rank operation also take constants time regardless of the number of elements. Therefore, the time complexity of checker program is only linear to the number of operations, which is O(m), where m is the number of operations in input sequence."
   ]
  },
  {
   "cell_type": "code",
   "execution_count": null,
   "metadata": {},
   "outputs": [],
   "source": [
    "import array\n",
    "\n",
    "def checker(inputSeq, outputSeq):\n",
    "    arr = array.array('i',(0 for i in range(10000)))\n",
    "    checkerOutputSeq = []\n",
    "\n",
    "    for line in inputSeq:\n",
    "        lineSplit = line.split()\n",
    "        command, num = lineSplit[0], int(lineSplit[1])\n",
    "        \n",
    "        if command == 'I':\n",
    "            if arr[num] == 0:\n",
    "                arr[num] = 1\n",
    "                checkerOutputSeq.append(num)\n",
    "            else:\n",
    "                checkerOutputSeq.append(0)\n",
    "\n",
    "        elif command == \"D\" :\n",
    "            if arr[num] == 1:\n",
    "                arr[num] = 0\n",
    "                checkerOutputSeq.append(num)\n",
    "            else:\n",
    "                checkerOutputSeq.append(0)\n",
    "\n",
    "        elif command == \"S\":\n",
    "            sum = 0\n",
    "            for i in range(1, 10000):\n",
    "                sum += arr[i]\n",
    "                if sum == num:\n",
    "                    break\n",
    "            if sum < num:\n",
    "                checkerOutputSeq.append(0)\n",
    "            else:\n",
    "                checkerOutputSeq.append(i)\n",
    "        \n",
    "        elif command == \"R\":\n",
    "            if arr[num] == 1:\n",
    "                rank = 0\n",
    "                for i in range(1, num+1):\n",
    "                    rank += arr[i]\n",
    "                checkerOutputSeq.append(rank)\n",
    "            else:\n",
    "                checkerOutputSeq.append(0)\n",
    "\n",
    "    result = True\n",
    "\n",
    "    if len(checkerOutputSeq) != len(outputSeq):\n",
    "        result = False\n",
    "\n",
    "    for i in range(len(checkerOutputSeq)):\n",
    "        if(str(checkerOutputSeq[i]) != outputSeq[i]):\n",
    "            result = False\n",
    "            break\n",
    "\n",
    "    with open(\"checker.txt\", 'w') as f:\n",
    "        f.write(str(result))\n",
    "        \n",
    "    return result"
   ]
  },
  {
   "cell_type": "markdown",
   "metadata": {},
   "source": [
    "## 3. Example Running\n",
    "Short running example follows. Example running for 1M and 50K input sequences are attached with programs."
   ]
  },
  {
   "cell_type": "code",
   "execution_count": 5,
   "metadata": {},
   "outputs": [],
   "source": [
    "import random\n",
    "\n",
    "commandList = ['I', 'D', 'S', 'R']\n",
    "random.seed(0)\n",
    "\n",
    "with open(\"input.txt\", 'w') as f:\n",
    "    \n",
    "    for i in range(30):\n",
    "        command = random.sample(commandList, k=1)[0]\n",
    "        num = random.randint(1, 9999)\n",
    "        line = command + \" \" + str(num)\n",
    "        if i == 0:\n",
    "            f.write(line)\n",
    "        else:\n",
    "            f.write(\"\\n\" + line)"
   ]
  },
  {
   "cell_type": "code",
   "execution_count": 6,
   "metadata": {},
   "outputs": [
    {
     "name": "stdout",
     "output_type": "stream",
     "text": [
      "R 6891\n",
      "I 4243\n",
      "R 6635\n",
      "S 7809\n",
      "S 9559\n",
      "D 8269\n",
      "D 4618\n",
      "D 1554\n",
      "S 8726\n",
      "D 5082\n",
      "I 1209\n",
      "S 7736\n",
      "I 5797\n",
      "R 5181\n",
      "D 9053\n",
      "R 7254\n",
      "S 1021\n",
      "I 1529\n",
      "R 19\n",
      "R 5459\n",
      "D 5329\n",
      "I 3131\n",
      "D 3910\n",
      "D 8897\n",
      "R 1495\n",
      "I 5244\n",
      "R 1787\n",
      "S 9032\n",
      "S 2045\n",
      "S 8853\n",
      "Output for R 6891: 0\n",
      "Output for I 4243: 4243\n",
      "Output for R 6635: 0\n",
      "Output for S 7809: 0\n",
      "Output for S 9559: 0\n",
      "Output for D 8269: 0\n",
      "Output for D 4618: 0\n",
      "Output for D 1554: 0\n",
      "Output for S 8726: 0\n",
      "Output for D 5082: 0\n",
      "Output for I 1209: 1209\n",
      "Output for S 7736: 0\n",
      "Output for I 5797: 5797\n",
      "Output for R 5181: 0\n",
      "Output for D 9053: 0\n",
      "Output for R 7254: 0\n",
      "Output for S 1021: 0\n",
      "Output for I 1529: 1529\n",
      "Output for R 19: 0\n",
      "Output for R 5459: 0\n",
      "Output for D 5329: 0\n",
      "Output for I 3131: 3131\n",
      "Output for D 3910: 0\n",
      "Output for D 8897: 0\n",
      "Output for R 1495: 0\n",
      "Output for I 5244: 5244\n",
      "Output for R 1787: 0\n",
      "Output for S 9032: 0\n",
      "Output for S 2045: 0\n",
      "Output for S 8853: 0\n",
      "Checker Result: True\n",
      "Executed Time: 0.01s\n"
     ]
    }
   ],
   "source": [
    "!python main.py -i input.txt"
   ]
  }
 ],
 "metadata": {
  "kernelspec": {
   "display_name": "Python 3",
   "language": "python",
   "name": "python3"
  },
  "language_info": {
   "codemirror_mode": {
    "name": "ipython",
    "version": 3
   },
   "file_extension": ".py",
   "mimetype": "text/x-python",
   "name": "python",
   "nbconvert_exporter": "python",
   "pygments_lexer": "ipython3",
   "version": "3.8.6rc1"
  }
 },
 "nbformat": 4,
 "nbformat_minor": 2
}
