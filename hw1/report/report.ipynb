{
 "cells": [
  {
   "cell_type": "markdown",
   "metadata": {},
   "source": [
    "# Ramdomized Selection and Deterministic Selection"
   ]
  },
  {
   "cell_type": "markdown",
   "metadata": {},
   "source": [
    "## 1. 서론\n",
    "본 보고서에서는 서로 다르게 구현된 k-th smallest selection algorithm의 비교를 목적으로 한다. \n",
    "\n",
    "Randomized Selction 알고리즘은 average-case $\\Theta(n)$의 시간복잡도를 가진다. 그러나 worst-case에서 $\\Theta(n^2)$의 시간이 걸린다. 따라서 파티션의 피봇이 가장 작은 원소 혹은 가장 큰 원소로 연속적으로 설정되면, 수행 시간의 손실이 크다.\n",
    "\n",
    "Deterministic Selection 알고리즘은 radomized Selction 알고리즘보다 상수 overhead가 크지만, worst-case에서 $\\Theta(n)$의 시간복잡도를 가진다. 즉, randomzied selection보다 일반적으로 조금 느려지는 대신 worst-case에서는 보다 빠른 속도를 보장한다. 본 보고서에서는 이러한 균형을 달성하기 위해 증가하는 overhead가 어느 정도인지 측정해보고자 한다.\n",
    "\n",
    "\n",
    "이를 위하여 두 알고리즘을 수행하고 확인하는 프로그램을 python으로 구현하였다. 구현과 실행에 사용한 환경은 python 3.8.6rc1이고, 다음과 같은 command line으로 실행한다. 다음은 1M 크기의 input에 대한 sample running이다."
   ]
  },
  {
   "cell_type": "code",
   "execution_count": 1,
   "metadata": {},
   "outputs": [
    {
     "name": "stdout",
     "output_type": "stream",
     "text": [
      "i-th smallest number by randomized selection:  218395\n",
      "Execution time by randomized selection:  83\n",
      "Check randomized selection: True\n",
      "i-th smallest number by deterministic selection:  218395\n",
      "Execution time by deterministic selection:  1367\n",
      "Check deterministic selection: True\n"
     ]
    }
   ],
   "source": [
    "!python main.py"
   ]
  },
  {
   "cell_type": "markdown",
   "metadata": {},
   "source": [
    "구현을 위해 사용한 내장 패키지들은 다음과 같다. 수행 시간 측정을 위해 time을, 각 알고리즘 실행 시 call by reference로 인한 데이터의 변경을 막기 위해 copy를, deterministic selection 시 그룹의 개수를 계산하기 위해 math를 import하였다."
   ]
  },
  {
   "cell_type": "code",
   "execution_count": null,
   "metadata": {},
   "outputs": [],
   "source": [
    "import time\n",
    "import copy\n",
    "import math"
   ]
  },
  {
   "cell_type": "markdown",
   "metadata": {},
   "source": [
    "## 2. 알고리즘의 구현"
   ]
  },
  {
   "cell_type": "markdown",
   "metadata": {},
   "source": [
    "### 2.1 Randomized Selection\n",
    "Randomized Selction 알고리즘을 다음과 같이 구현하였다. RandomizedSelect 함수는 input으로 list의 길이와, 그 list, 그리고 i를 받아 그 list에서 i번째로 작은 수를 반환한다."
   ]
  },
  {
   "cell_type": "code",
   "execution_count": null,
   "metadata": {},
   "outputs": [],
   "source": [
    "def randomizedSelect(length, numList, i):\n",
    "    startTime = time.time()\n",
    "    \n",
    "    output = select(numList,0,length-1,i)\n",
    "\n",
    "    # execution time in ms\n",
    "    executedTime = int((time.time()-startTime) * 1000)\n",
    "\n",
    "    # save result to deter.txt\n",
    "    with open(\"random.txt\", \"w\") as f:\n",
    "        f.write(str(output)+'\\n')\n",
    "        f.write(str(executedTime)+\"ms\")\n",
    "\n",
    "    return output, executedTime\n",
    "\n",
    "def select(numList, p, r, i):\n",
    "    # if length of list is 1, return the only element\n",
    "    if p == r:\n",
    "        return numList[p]\n",
    "\n",
    "    # else, make partition and return index of pivot\n",
    "    q = partition(numList, p, r)\n",
    "\n",
    "    # pivot is the k-th smallest\n",
    "    k = q-p+1\n",
    "\n",
    "    if i < k:\n",
    "        return select(numList, p, q-1, i)\n",
    "    elif i == k:\n",
    "        return numList[q]\n",
    "    else:\n",
    "        return select(numList, q+1, r, i-k)"
   ]
  },
  {
   "cell_type": "markdown",
   "metadata": {},
   "source": [
    "Ramdomzied Selction의 partition 알고리즘은 해당 리스트의 마지막 원소를 피봇으로 설정한다. 따라서 피봇이 임의의 rank의 원소로 설정된다. 이러한 측면에서 이 알고리즘이 randomzied Selction 이라고 명명된다. 그러나 만약 partition 시 피봇의 rank가 최소나 최대에 가까우면, 알고리즘의 성능이 매우 떨어지게 되는 단점이 있다."
   ]
  },
  {
   "cell_type": "code",
   "execution_count": null,
   "metadata": {},
   "outputs": [],
   "source": [
    "def partition(numList, p, r):\n",
    "    # use last element as pivot\n",
    "    pivot = numList[r]\n",
    "    i = p-1\n",
    "    for j in range(p, r):\n",
    "        if numList[j] <= pivot:\n",
    "            i += 1\n",
    "            numList[i], numList[j] = numList[j], numList[i]\n",
    "    numList[i+1], numList[r] = numList[r], numList[i+1]\n",
    "    return i+1"
   ]
  },
  {
   "cell_type": "markdown",
   "metadata": {},
   "source": [
    "### 2.2. Deterministic Selection\n",
    "Deterministic Selction 알고리즘을 다음과 같이 구현하였다. deterministicSelect 함수는 input으로 list의 길이와, 그 list, 그리고 i를 받아 그 list에서 i번째로 작은 수를 반환한다."
   ]
  },
  {
   "cell_type": "code",
   "execution_count": null,
   "metadata": {},
   "outputs": [],
   "source": [
    "def deterministicSelect(length, numList, i):\n",
    "    startTime = time.time()\n",
    "    \n",
    "    output = linearSelect(numList,0,length-1,i)\n",
    "\n",
    "    # execution time in ms\n",
    "    executedTime = int((time.time()-startTime) * 1000)\n",
    "\n",
    "    # save result to random.txt\n",
    "    with open(\"deter.txt\", \"w\") as f:\n",
    "        f.write(str(output)+'\\n')\n",
    "        f.write(str(executedTime)+\"ms\")\n",
    "\n",
    "    return output, executedTime\n",
    "\n",
    "def linearSelect(numList, p, r, i):\n",
    "    # if length of list is 1, return the only element\n",
    "    if p == r:\n",
    "            return numList[p]\n",
    "    # else if length <=5, insertion sort the list and return i-th smallest\n",
    "    elif r-p+1 <= 5:\n",
    "        numList = insertionSort(numList, p, r)\n",
    "        return numList[p+i-1]\n",
    "    # else choose not extreme pivot by recursive call\n",
    "    else:\n",
    "        numGroups = math.ceil((r-p+1)/5)\n",
    "        lengthLastGroup = (r-p+1) % 5\n",
    "        medians = list()\n",
    "\n",
    "        # group each 5 elements and get median\n",
    "        for j in range(p, r+1, 5):\n",
    "            # if last group is not full, median index is different\n",
    "            if r-j < 4:\n",
    "                numList = insertionSort(numList, j, j+lengthLastGroup-1)\n",
    "                medians.append(numList[j + (lengthLastGroup-1)//2])\n",
    "            else:\n",
    "                numList = insertionSort(numList, j, j+4)\n",
    "                medians.append(numList[j+2])\n",
    "        \n",
    "        # choose median of medians as pivot recursively\n",
    "        pivot = linearSelect(medians, 0, numGroups-1, numGroups//2)\n",
    "\n",
    "        # partition with the pivot and return index of pivot\n",
    "        q = partitionWithPivot(numList, p, r, pivot)\n",
    "\n",
    "        # pivot is the k-th smallest\n",
    "        k = q-p+1\n",
    "\n",
    "        if i < k:\n",
    "            return linearSelect(numList, p, q-1, i)\n",
    "        elif i == k:\n",
    "            return numList[q]\n",
    "        else:\n",
    "            return linearSelect(numList, q+1, r, i-k)"
   ]
  },
  {
   "cell_type": "markdown",
   "metadata": {},
   "source": [
    "Deterministic selection의 partition 알고리즘은 임의의 인덱스로 피봇을 설정하는 대신, 중간값에 가까운 피봇 값을 받아 partition을 수행한다. partition은 피봇이 중간값에 가깝게 설정될수록 그 효율이 높으므로, 알고리즘이 극단적인 피봇의 선택에 robust하다. 그러나 중간값에 가까운 피봇을 찾는 과정에서 상수 오버헤드가 발생한다."
   ]
  },
  {
   "cell_type": "code",
   "execution_count": null,
   "metadata": {},
   "outputs": [],
   "source": [
    "def partitionWithPivot(numList, p, r, pivot):\n",
    "    # find index of pivot by traveling once\n",
    "    pivotIdx = findIdx(numList, p, r, pivot)\n",
    "\n",
    "    # swap pivot with last element and same as partition in deterministic one\n",
    "    numList[r], numList[pivotIdx] = numList[pivotIdx], numList[r]\n",
    "    \n",
    "    i = p-1\n",
    "    for j in range(p, r):\n",
    "        if numList[j] <= pivot:\n",
    "            i += 1\n",
    "            numList[i], numList[j] = numList[j], numList[i]\n",
    "    numList[i+1], numList[r] = numList[r], numList[i+1]\n",
    "    return i+1"
   ]
  },
  {
   "cell_type": "markdown",
   "metadata": {},
   "source": [
    "위 코드에서 추가적으로 사용한 함수의 구현은 다음과 같다."
   ]
  },
  {
   "cell_type": "code",
   "execution_count": null,
   "metadata": {},
   "outputs": [],
   "source": [
    "def findIdx(numList, p, r, pivot):\n",
    "    for i in range(p, r+1):\n",
    "        if numList[i] == pivot:\n",
    "            return i\n",
    "\n",
    "def insertionSort(numList, p, r):\n",
    "    for i in range(p+1, r+1):\n",
    "        for j in range(i-1, p-1, -1):\n",
    "            if numList[j] > numList[j+1]:\n",
    "                numList[j], numList[j+1] = numList[j+1], numList[j]\n",
    "            else:\n",
    "                break\n",
    "    return numList"
   ]
  },
  {
   "cell_type": "markdown",
   "metadata": {},
   "source": [
    "### 2.3. Checker Program\n",
    "Checker Program은 각 알고리즘이 정상적으로 작동하는지 검사하는 프로그램이다.\n",
    "\n",
    "만약 정수의 list가 주어져 있고 그 원소인 x가 주어져 있다고 하자. 그리고 list에서 x보다 작은 정수는 a개, x와 같은 크기의 정수는 b개라고 하자. 이 때 x는 a+1번째 작은 수이거나, a+2번째 작은 수이거나, ...,  a+b번째 작은 수라고 할 수 있다. 따라서 x가 list에서 i번째 작은 수라고 하면, i는 a보다 크고, a+b보다는 작거나 같아야한다.\n",
    "\n",
    "아래 checker program은 input으로 list, i, 각 알고리즘의 output, 알고리즘의 종류를 받은 후 각 알고리즘이 정상적으로 작동하는지 여부를 True/False로 반환한다. 이 checker는 list를 1회 travel하면서 output보다 작은 수의 개수 countSmaller와, output과 같은 크기의 수의 개수 countTie를 저장한다. 그리고 countSmaller < i <= countSmaller + countTie를 만족하는지 판단하여 결론을 내린다.\n",
    "\n",
    "Input list를 1회 travel 하므로, 이 cheker는 $\\Theta(n)$의 시간복잡도를 가진다."
   ]
  },
  {
   "cell_type": "code",
   "execution_count": null,
   "metadata": {},
   "outputs": [],
   "source": [
    "def checker(numList, i, output, mode):\n",
    "    # record the number of smaller and tie by traveling the list once\n",
    "    countSmaller = 0\n",
    "    countTie = 0\n",
    "    for x in numList:\n",
    "        if x < output:\n",
    "            countSmaller += 1\n",
    "        elif x == output:\n",
    "            countTie += 1\n",
    "    \n",
    "    # the output is correct iff countSmaller < i <= countSmaller + countTie\n",
    "    # True or False for each algorithm\n",
    "    result = (i > countSmaller) and (i <= countSmaller + countTie)\n",
    "    \n",
    "    # save the result of checker together in result.txt\n",
    "    if mode == \"random\":\n",
    "        with open(\"result.txt\", \"w\") as f:\n",
    "            f.write(str(result)+'\\n')\n",
    "    else:\n",
    "        with open(\"result.txt\", \"a\") as f:\n",
    "            f.write(str(result))\n",
    "    \n",
    "    return result"
   ]
  },
  {
   "cell_type": "markdown",
   "metadata": {},
   "source": [
    "## 3. 알고리즘의 비교\n",
    "Input은 프로그램 외부에서 다음 코드를 실행하여 생성하였다. n을 변경하여 input list의 크기에 따른 수행 시간을 비교하였다. 이 때 seed를 고정하여 재현가능하도록 하였다."
   ]
  },
  {
   "cell_type": "code",
   "execution_count": null,
   "metadata": {},
   "outputs": [],
   "source": [
    "import numpy as np\n",
    "\n",
    "np.random.seed(0)\n",
    "n = 1000000\n",
    "arr = np.random.randint(1, n+1, n)\n",
    "s = \"\"\n",
    "for i in range(n):\n",
    "    s = s + str(arr[i]) + \" \"\n",
    "s.strip\n",
    "\n",
    "with open(\"input.txt\", \"w\") as f:\n",
    "    f.write(str(n) + '\\n')\n",
    "    f.write(s + '\\n')\n",
    "    f.write(str(np.random.randint(1,n+1)))"
   ]
  },
  {
   "cell_type": "markdown",
   "metadata": {},
   "source": [
    "Input을 프로그램 내부에서 읽을 때는 다음과 같은 함수를 사용하였다."
   ]
  },
  {
   "cell_type": "code",
   "execution_count": null,
   "metadata": {},
   "outputs": [],
   "source": [
    "def readInput():\n",
    "    with open(\"input.txt\", 'r') as f:\n",
    "        lines = f.readlines()\n",
    "        length = int(lines[0])\n",
    "        numList = list(map(int, lines[1].split()))\n",
    "        i = int(lines[2])\n",
    "    return length, numList, i"
   ]
  },
  {
   "cell_type": "markdown",
   "metadata": {},
   "source": [
    "main 함수는 다음과 같다. readInput 함수로 txt파일을 메모리로 load하고, randomizedSelect, deterministicSelect를 차례로 수행하고 각각 checker로 올바르게 작동하는지 print한다."
   ]
  },
  {
   "cell_type": "code",
   "execution_count": null,
   "metadata": {},
   "outputs": [],
   "source": [
    "def main():\n",
    "    length, numList, i = readInput()\n",
    "    \n",
    "    output, time = randomizedSelect(length, copy.deepcopy(numList), i)\n",
    "    print(\"i-th smallest number by randomized selection: \", output)\n",
    "    print(\"Execution time by randomized selection: \", time)\n",
    "    print(\"Check randomized selection:\", checker(numList, i, output, \"random\"))\n",
    "\n",
    "    output, time = deterministicSelect(length, copy.deepcopy(numList), i)\n",
    "    print(\"i-th smallest number by deterministic selection: \", output)\n",
    "    print(\"Execution time by deterministic selection: \", time)\n",
    "    print(\"Check deterministic selection:\", checker(numList, i, output, \"deter\"))"
   ]
  },
  {
   "cell_type": "markdown",
   "metadata": {},
   "source": [
    "Input array의 크기를 100,000부터 1,000,000까지 100,000 씩 늘려가며 수행 시간을 기록하여 그린 그래프는 다음과 같다. 두 알고리즘 모두 시간이 선형으로 증가함을 알 수 있다."
   ]
  },
  {
   "cell_type": "code",
   "execution_count": 3,
   "metadata": {},
   "outputs": [
    {
     "data": {
      "image/png": "[encoded data removed]",
      "text/plain": [
       "<IPython.core.display.Image object>"
      ]
     },
     "execution_count": 3,
     "metadata": {},
     "output_type": "execute_result"
    }
   ],
   "source": [
    "from IPython.display import Image\n",
    "Image(\"figure.png\")"
   ]
  },
  {
   "cell_type": "markdown",
   "metadata": {},
   "source": [
    "이 때 추세선을 그려 두 그래프의 기울기를 비교하였다. 두 그래프의 기울기의 비는 $\\dfrac{2.0736}{0.2194}= 9.45$이다. 이로부터 두 알고리즘 모두 average-case $\\Theta(n)$의 시간복잡도를 가지지만, deterministic-select가 randomized-select보다 n의 계수가 약 9.45배 크다는 것을 알 수 있다.\n",
    "\n",
    "한편, 두 알고리즘 모두 수행 시간이 선형으로 증가했지만, randomized 알고리즘은 보다 편차가 큰 것으로 나타났다. deterministic-select는 선형 추세선에 대해 $R^2=0.9974$였지만, randomized-select는 $R^2=0.524$였다. 이는 선형 추세선이 수행 시간 변동의 52.4% 가량을 설명한다는 뜻으로, randomzied 알고리즘은 input array의 좋고 나쁨에 의해 그 성능의 편차가 deterministic보다 큼을 알 수 있다. 이는 randomized-select 알고리즘이 worst-case $\\Theta(n^2)$의 시간복잡도를 가지는 것과 관련이 있을 것으로 생각된다."
   ]
  },
  {
   "cell_type": "markdown",
   "metadata": {},
   "source": [
    "## 4. 결론\n",
    "두 알고리즘 모두 수행 시간이 선형으로 증가하지만, 상수 overhead에 의해 deterministic-select가 randomized-select보다 9.45배 느린 것을 알 수 있었다. 그 대신 deterministic-select는 인풋의 좋고 나쁨에 robust하여 선형으로 안정적으로 증가하는 데에 반해, randomized-select는 인풋의 좋고 나쁨에 취약하여, 그 편차가 컸다."
   ]
  },
  {
   "cell_type": "markdown",
   "metadata": {},
   "source": [
    "## 5. Example Running\n",
    "다음은 길이가 1000인 인풋을 생성하여, 프로그램을 실행하고 결과 파일들을 print한 example running이다. input.txt를 print하기 용이하게 하기 위하여 실험에 사용한 인풋보다 작은 인풋을 생성하여 실행하였다. 더 큰 인풋 사이즈에 대한 example running 결과는 압축하여 별첨하였다."
   ]
  },
  {
   "cell_type": "code",
   "execution_count": 4,
   "metadata": {},
   "outputs": [],
   "source": [
    "import numpy as np\n",
    "\n",
    "np.random.seed(0)\n",
    "n = 1000\n",
    "arr = np.random.randint(1, n+1, n)\n",
    "s = \"\"\n",
    "for i in range(n):\n",
    "    s = s + str(arr[i]) + \" \"\n",
    "s.strip\n",
    "\n",
    "with open(\"input.txt\", \"w\") as f:\n",
    "    f.write(str(n) + '\\n')\n",
    "    f.write(s + '\\n')\n",
    "    f.write(str(np.random.randint(1,n+1)))"
   ]
  },
  {
   "cell_type": "code",
   "execution_count": 5,
   "metadata": {},
   "outputs": [
    {
     "name": "stdout",
     "output_type": "stream",
     "text": [
      "1000\n",
      "\n",
      "685 560 630 193 836 764 708 360 10 724 278 755 805 600 71 473 601 397 315 706 487 552 88 175 601 850 678 538 846 73 778 917 116 977 756 710 848 432 449 851 100 985 178 756 798 660 148 911 424 289 962 266 698 640 545 544 715 245 152 676 511 460 883 184 29 803 129 129 933 54 902 551 489 757 274 336 389 618 43 443 544 889 258 322 1000 938 58 292 871 120 780 431 83 92 897 399 612 566 909 634 939 85 204 325 775 965 48 640 132 973 869 181 847 144 661 228 955 792 720 910 374 854 561 306 582 170 676 449 96 198 607 257 882 691 293 931 817 862 388 611 555 974 369 1000 918 202 384 513 907 371 556 955 384 24 700 131 378 99 575 932 735 124 964 595 943 740 149 210 563 412 783 42 59 706 37 779 87 44 873 12 771 308 81 33 183 129 807 276 175 555 372 185 445 489 590 287 281 638 771 516 95 227 876 270 881 297 329 20 608 841 411 451 249 181 324 830 783 865 261 964 750 140 599 462 890 622 844 697 529 153 926 150 111 26 465 957 890 887 118 446 596 674 873 929 229 508 764 122 327 470 288 526 840 697 153 592 42 275 553 439 208 780 167 112 350 130 736 887 813 217 382 25 68 979 772 235 717 999 292 727 702 710 728 556 33 12 617 213 139 695 422 638 669 624 489 771 540 980 218 664 822 308 175 149 950 542 580 548 808 394 74 298 920 900 815 731 947 877 772 800 778 395 540 430 200 424 62 342 866 45 803 931 89 34 646 233 768 37 769 460 291 198 895 950 255 81 447 137 190 130 210 369 292 377 348 169 885 805 177 538 324 872 509 804 115 799 30 754 290 147 274 222 341 510 515 70 358 909 557 886 766 323 624 92 342 424 552 972 663 415 658 711 968 275 861 44 84 434 810 94 175 406 202 858 499 481 988 330 541 210 618 955 897 983 576 17 107 165 607 537 629 192 196 308 137 953 860 94 892 751 88 161 148 585 456 88 14 315 594 121 885 952 833 716 733 933 282 801 427 783 471 285 277 979 325 535 228 891 596 648 969 574 654 518 257 137 208 464 950 140 5 424 349 942 283 587 821 434 220 820 740 874 787 374 291 564 671 438 827 940 824 509 787 942 856 450 327 491 54 817 95 60 337 667 637 164 571 946 107 202 301 782 890 839 551 680 649 14 904 721 535 505 848 986 777 740 775 210 456 469 474 963 573 401 57 883 750 664 281 5 613 306 344 543 567 154 789 354 358 698 408 412 30 930 372 822 632 948 855 503 8 618 138 695 897 852 377 933 722 149 886 260 127 811 578 533 805 325 977 113 944 651 238 361 991 860 556 64 928 917 455 266 445 604 624 420 340 845 275 370 843 227 226 940 644 909 229 827 898 370 129 808 25 699 293 356 838 135 4 227 890 681 445 418 285 837 27 737 249 366 948 202 438 198 930 648 638 607 73 247 853 136 708 214 476 621 324 103 853 328 596 224 257 646 348 108 927 970 980 520 150 998 477 393 684 559 1 361 692 551 90 75 500 739 636 344 97 852 283 719 33 116 455 866 429 828 826 691 174 746 133 442 94 348 402 420 707 405 942 186 976 376 677 874 703 517 498 499 206 415 366 856 739 420 586 219 952 539 375 23 461 720 355 603 52 999 815 721 574 445 816 105 641 395 972 910 328 607 519 686 246 415 528 170 167 310 940 595 392 221 834 682 835 115 861 335 742 220 247 101 416 222 179 509 175 606 627 674 781 737 746 849 67 457 126 139 625 731 156 697 121 322 449 710 857 291 976 4 701 239 678 172 724 857 583 661 903 797 628 903 835 605 989 615 870 380 710 110 330 101 695 846 918 508 672 594 36 238 244 251 393 767 282 22 430 230 983 401 154 120 678 896 386 390 711 397 347 587 951 79 831 585 200 814 134 560 700 171 452 139 755 314 476 346 388 126 719 851 198 699 901 18 710 448 351 665 644 326 425 165 571 178 440 665 674 915 866 463 754 136 950 748 47 497 640 930 338 158 525 631 815 887 289 803 116 600 637 410 175 499 876 565 623 577 333 887 586 147 773 776 644 49 77 294 117 494 561 110 979 180 562 72 859 434 286 516 75 597 491 322 888 533 209 43 499 29 411 856 181 305 963 615 778 259 373 877 746 858 381 886 613 91 69 618 523 13 617 226 422 168 929 379 290 923 100 218 307 345 211 789 735 669 585 275 410 921 552 235 636 285 665 659 708 173 724 302 823 1 139 708 903 732 868 442 967 916 163 51 243 871 \n",
      "\n",
      "21\n"
     ]
    }
   ],
   "source": [
    "with open(\"input.txt\", \"r\") as f:\n",
    "    lines = f.readlines()\n",
    "    for i in range(len(lines)):\n",
    "        print(lines[i])"
   ]
  },
  {
   "cell_type": "code",
   "execution_count": 9,
   "metadata": {},
   "outputs": [
    {
     "name": "stdout",
     "output_type": "stream",
     "text": [
      "i-th smallest number by randomized selection:  25\n",
      "Execution time by randomized selection:  0\n",
      "Check randomized selection: True\n",
      "i-th smallest number by deterministic selection:  25\n",
      "Execution time by deterministic selection:  1\n",
      "Check deterministic selection: True\n"
     ]
    }
   ],
   "source": [
    "!python main.py"
   ]
  },
  {
   "cell_type": "code",
   "execution_count": 10,
   "metadata": {},
   "outputs": [
    {
     "name": "stdout",
     "output_type": "stream",
     "text": [
      "25\n",
      "\n",
      "0ms\n"
     ]
    }
   ],
   "source": [
    "with open(\"random.txt\", \"r\") as f:\n",
    "    lines = f.readlines()\n",
    "    for i in range(len(lines)):\n",
    "        print(lines[i])"
   ]
  },
  {
   "cell_type": "code",
   "execution_count": 11,
   "metadata": {},
   "outputs": [
    {
     "name": "stdout",
     "output_type": "stream",
     "text": [
      "25\n",
      "\n",
      "1ms\n"
     ]
    }
   ],
   "source": [
    "with open(\"deter.txt\", \"r\") as f:\n",
    "    lines = f.readlines()\n",
    "    for i in range(len(lines)):\n",
    "        print(lines[i])"
   ]
  },
  {
   "cell_type": "code",
   "execution_count": 12,
   "metadata": {},
   "outputs": [
    {
     "name": "stdout",
     "output_type": "stream",
     "text": [
      "True\n",
      "\n",
      "True\n"
     ]
    }
   ],
   "source": [
    "with open(\"result.txt\", \"r\") as f:\n",
    "    lines = f.readlines()\n",
    "    for i in range(len(lines)):\n",
    "        print(lines[i])"
   ]
  }
 ],
 "metadata": {
  "kernelspec": {
   "display_name": "Python 3",
   "language": "python",
   "name": "python3"
  },
  "language_info": {
   "codemirror_mode": {
    "name": "ipython",
    "version": 3
   },
   "file_extension": ".py",
   "mimetype": "text/x-python",
   "name": "python",
   "nbconvert_exporter": "python",
   "pygments_lexer": "ipython3",
   "version": "3.8.6rc1"
  }
 },
 "nbformat": 4,
 "nbformat_minor": 2
}
